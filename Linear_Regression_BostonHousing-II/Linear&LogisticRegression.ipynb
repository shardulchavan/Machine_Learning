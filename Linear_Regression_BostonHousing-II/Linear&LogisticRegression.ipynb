{
  "nbformat": 4,
  "nbformat_minor": 0,
  "metadata": {
    "colab": {
      "provenance": [],
      "collapsed_sections": []
    },
    "kernelspec": {
      "name": "python3",
      "display_name": "Python 3"
    },
    "language_info": {
      "name": "python"
    }
  },
  "cells": [
    {
      "cell_type": "markdown",
      "source": [
        "Linear Regression:\n",
        "Apply linear regression on the Boston Housing dataset with \"MV\" as the dependent variable. Arrive at the final dataset with reduced number of columns, utilizing p-value, correlation coefficient, and multiple R-squared statistics. Use whatever libraries are appropriate when coding in Python. Can you run the same in Excel using a data analysis function and the prepared dataset?"
      ],
      "metadata": {
        "id": "nglTjV1OJ5Hq"
      }
    },
    {
      "cell_type": "code",
      "execution_count": 4,
      "metadata": {
        "id": "tvrLTyDnEyy8"
      },
      "outputs": [],
      "source": [
        "import pandas as pd\n",
        "import numpy as np\n",
        "import scipy\n",
        "import statsmodels.api as sm\n",
        "from scipy import stats\n",
        "import seaborn as sns\n",
        "from sklearn.model_selection import train_test_split\n",
        "from sklearn.linear_model import LinearRegression"
      ]
    },
    {
      "cell_type": "code",
      "source": [
        "#pip install --upgrade xlrd"
      ],
      "metadata": {
        "id": "mpPXrzkIHEqp"
      },
      "execution_count": 5,
      "outputs": []
    },
    {
      "cell_type": "code",
      "source": [
        "data=pd.read_excel('/content/boston housing.xls')"
      ],
      "metadata": {
        "id": "YPHQDnbOFtSY"
      },
      "execution_count": 6,
      "outputs": []
    },
    {
      "cell_type": "code",
      "source": [
        "print(data.shape)\n",
        "data.head()"
      ],
      "metadata": {
        "colab": {
          "base_uri": "https://localhost:8080/",
          "height": 223
        },
        "id": "PA5g4k7eF7rK",
        "outputId": "1cac8680-5ca4-40a7-c17e-cd0f95ba5d36"
      },
      "execution_count": 7,
      "outputs": [
        {
          "output_type": "stream",
          "name": "stdout",
          "text": [
            "(506, 14)\n"
          ]
        },
        {
          "output_type": "execute_result",
          "data": {
            "text/plain": [
              "      CRIM    ZN  INDUS  CHAS    NOX     RM        AGE     DIS  RAD  TAX  \\\n",
              "0  0.00632  18.0   2.31     0  0.538  6.575  65.199997  4.0900    1  296   \n",
              "1  0.02731   0.0   7.07     0  0.469  6.421  78.900002  4.9671    2  242   \n",
              "2  0.02729   0.0   7.07     0  0.469  7.185  61.099998  4.9671    2  242   \n",
              "3  0.03237   0.0   2.18     0  0.458  6.998  45.799999  6.0622    3  222   \n",
              "4  0.06905   0.0   2.18     0  0.458  7.147  54.200001  6.0622    3  222   \n",
              "\n",
              "          PT           B  LSTAT         MV  \n",
              "0  15.300000  396.899994   4.98  24.000000  \n",
              "1  17.799999  396.899994   9.14  21.600000  \n",
              "2  17.799999  392.829987   4.03  34.700001  \n",
              "3  18.700001  394.630005   2.94  33.400002  \n",
              "4  18.700001  396.899994   5.33  36.200001  "
            ],
            "text/html": [
              "\n",
              "  <div id=\"df-4c31c435-0349-4ef1-a9b3-ed44c558f653\">\n",
              "    <div class=\"colab-df-container\">\n",
              "      <div>\n",
              "<style scoped>\n",
              "    .dataframe tbody tr th:only-of-type {\n",
              "        vertical-align: middle;\n",
              "    }\n",
              "\n",
              "    .dataframe tbody tr th {\n",
              "        vertical-align: top;\n",
              "    }\n",
              "\n",
              "    .dataframe thead th {\n",
              "        text-align: right;\n",
              "    }\n",
              "</style>\n",
              "<table border=\"1\" class=\"dataframe\">\n",
              "  <thead>\n",
              "    <tr style=\"text-align: right;\">\n",
              "      <th></th>\n",
              "      <th>CRIM</th>\n",
              "      <th>ZN</th>\n",
              "      <th>INDUS</th>\n",
              "      <th>CHAS</th>\n",
              "      <th>NOX</th>\n",
              "      <th>RM</th>\n",
              "      <th>AGE</th>\n",
              "      <th>DIS</th>\n",
              "      <th>RAD</th>\n",
              "      <th>TAX</th>\n",
              "      <th>PT</th>\n",
              "      <th>B</th>\n",
              "      <th>LSTAT</th>\n",
              "      <th>MV</th>\n",
              "    </tr>\n",
              "  </thead>\n",
              "  <tbody>\n",
              "    <tr>\n",
              "      <th>0</th>\n",
              "      <td>0.00632</td>\n",
              "      <td>18.0</td>\n",
              "      <td>2.31</td>\n",
              "      <td>0</td>\n",
              "      <td>0.538</td>\n",
              "      <td>6.575</td>\n",
              "      <td>65.199997</td>\n",
              "      <td>4.0900</td>\n",
              "      <td>1</td>\n",
              "      <td>296</td>\n",
              "      <td>15.300000</td>\n",
              "      <td>396.899994</td>\n",
              "      <td>4.98</td>\n",
              "      <td>24.000000</td>\n",
              "    </tr>\n",
              "    <tr>\n",
              "      <th>1</th>\n",
              "      <td>0.02731</td>\n",
              "      <td>0.0</td>\n",
              "      <td>7.07</td>\n",
              "      <td>0</td>\n",
              "      <td>0.469</td>\n",
              "      <td>6.421</td>\n",
              "      <td>78.900002</td>\n",
              "      <td>4.9671</td>\n",
              "      <td>2</td>\n",
              "      <td>242</td>\n",
              "      <td>17.799999</td>\n",
              "      <td>396.899994</td>\n",
              "      <td>9.14</td>\n",
              "      <td>21.600000</td>\n",
              "    </tr>\n",
              "    <tr>\n",
              "      <th>2</th>\n",
              "      <td>0.02729</td>\n",
              "      <td>0.0</td>\n",
              "      <td>7.07</td>\n",
              "      <td>0</td>\n",
              "      <td>0.469</td>\n",
              "      <td>7.185</td>\n",
              "      <td>61.099998</td>\n",
              "      <td>4.9671</td>\n",
              "      <td>2</td>\n",
              "      <td>242</td>\n",
              "      <td>17.799999</td>\n",
              "      <td>392.829987</td>\n",
              "      <td>4.03</td>\n",
              "      <td>34.700001</td>\n",
              "    </tr>\n",
              "    <tr>\n",
              "      <th>3</th>\n",
              "      <td>0.03237</td>\n",
              "      <td>0.0</td>\n",
              "      <td>2.18</td>\n",
              "      <td>0</td>\n",
              "      <td>0.458</td>\n",
              "      <td>6.998</td>\n",
              "      <td>45.799999</td>\n",
              "      <td>6.0622</td>\n",
              "      <td>3</td>\n",
              "      <td>222</td>\n",
              "      <td>18.700001</td>\n",
              "      <td>394.630005</td>\n",
              "      <td>2.94</td>\n",
              "      <td>33.400002</td>\n",
              "    </tr>\n",
              "    <tr>\n",
              "      <th>4</th>\n",
              "      <td>0.06905</td>\n",
              "      <td>0.0</td>\n",
              "      <td>2.18</td>\n",
              "      <td>0</td>\n",
              "      <td>0.458</td>\n",
              "      <td>7.147</td>\n",
              "      <td>54.200001</td>\n",
              "      <td>6.0622</td>\n",
              "      <td>3</td>\n",
              "      <td>222</td>\n",
              "      <td>18.700001</td>\n",
              "      <td>396.899994</td>\n",
              "      <td>5.33</td>\n",
              "      <td>36.200001</td>\n",
              "    </tr>\n",
              "  </tbody>\n",
              "</table>\n",
              "</div>\n",
              "      <button class=\"colab-df-convert\" onclick=\"convertToInteractive('df-4c31c435-0349-4ef1-a9b3-ed44c558f653')\"\n",
              "              title=\"Convert this dataframe to an interactive table.\"\n",
              "              style=\"display:none;\">\n",
              "        \n",
              "  <svg xmlns=\"http://www.w3.org/2000/svg\" height=\"24px\"viewBox=\"0 0 24 24\"\n",
              "       width=\"24px\">\n",
              "    <path d=\"M0 0h24v24H0V0z\" fill=\"none\"/>\n",
              "    <path d=\"M18.56 5.44l.94 2.06.94-2.06 2.06-.94-2.06-.94-.94-2.06-.94 2.06-2.06.94zm-11 1L8.5 8.5l.94-2.06 2.06-.94-2.06-.94L8.5 2.5l-.94 2.06-2.06.94zm10 10l.94 2.06.94-2.06 2.06-.94-2.06-.94-.94-2.06-.94 2.06-2.06.94z\"/><path d=\"M17.41 7.96l-1.37-1.37c-.4-.4-.92-.59-1.43-.59-.52 0-1.04.2-1.43.59L10.3 9.45l-7.72 7.72c-.78.78-.78 2.05 0 2.83L4 21.41c.39.39.9.59 1.41.59.51 0 1.02-.2 1.41-.59l7.78-7.78 2.81-2.81c.8-.78.8-2.07 0-2.86zM5.41 20L4 18.59l7.72-7.72 1.47 1.35L5.41 20z\"/>\n",
              "  </svg>\n",
              "      </button>\n",
              "      \n",
              "  <style>\n",
              "    .colab-df-container {\n",
              "      display:flex;\n",
              "      flex-wrap:wrap;\n",
              "      gap: 12px;\n",
              "    }\n",
              "\n",
              "    .colab-df-convert {\n",
              "      background-color: #E8F0FE;\n",
              "      border: none;\n",
              "      border-radius: 50%;\n",
              "      cursor: pointer;\n",
              "      display: none;\n",
              "      fill: #1967D2;\n",
              "      height: 32px;\n",
              "      padding: 0 0 0 0;\n",
              "      width: 32px;\n",
              "    }\n",
              "\n",
              "    .colab-df-convert:hover {\n",
              "      background-color: #E2EBFA;\n",
              "      box-shadow: 0px 1px 2px rgba(60, 64, 67, 0.3), 0px 1px 3px 1px rgba(60, 64, 67, 0.15);\n",
              "      fill: #174EA6;\n",
              "    }\n",
              "\n",
              "    [theme=dark] .colab-df-convert {\n",
              "      background-color: #3B4455;\n",
              "      fill: #D2E3FC;\n",
              "    }\n",
              "\n",
              "    [theme=dark] .colab-df-convert:hover {\n",
              "      background-color: #434B5C;\n",
              "      box-shadow: 0px 1px 3px 1px rgba(0, 0, 0, 0.15);\n",
              "      filter: drop-shadow(0px 1px 2px rgba(0, 0, 0, 0.3));\n",
              "      fill: #FFFFFF;\n",
              "    }\n",
              "  </style>\n",
              "\n",
              "      <script>\n",
              "        const buttonEl =\n",
              "          document.querySelector('#df-4c31c435-0349-4ef1-a9b3-ed44c558f653 button.colab-df-convert');\n",
              "        buttonEl.style.display =\n",
              "          google.colab.kernel.accessAllowed ? 'block' : 'none';\n",
              "\n",
              "        async function convertToInteractive(key) {\n",
              "          const element = document.querySelector('#df-4c31c435-0349-4ef1-a9b3-ed44c558f653');\n",
              "          const dataTable =\n",
              "            await google.colab.kernel.invokeFunction('convertToInteractive',\n",
              "                                                     [key], {});\n",
              "          if (!dataTable) return;\n",
              "\n",
              "          const docLinkHtml = 'Like what you see? Visit the ' +\n",
              "            '<a target=\"_blank\" href=https://colab.research.google.com/notebooks/data_table.ipynb>data table notebook</a>'\n",
              "            + ' to learn more about interactive tables.';\n",
              "          element.innerHTML = '';\n",
              "          dataTable['output_type'] = 'display_data';\n",
              "          await google.colab.output.renderOutput(dataTable, element);\n",
              "          const docLink = document.createElement('div');\n",
              "          docLink.innerHTML = docLinkHtml;\n",
              "          element.appendChild(docLink);\n",
              "        }\n",
              "      </script>\n",
              "    </div>\n",
              "  </div>\n",
              "  "
            ]
          },
          "metadata": {},
          "execution_count": 7
        }
      ]
    },
    {
      "cell_type": "code",
      "source": [
        "data.isnull().sum()"
      ],
      "metadata": {
        "colab": {
          "base_uri": "https://localhost:8080/"
        },
        "id": "99vTZDb_HUlz",
        "outputId": "e40bfcf1-0193-40af-b2b3-a95d81558e87"
      },
      "execution_count": 8,
      "outputs": [
        {
          "output_type": "execute_result",
          "data": {
            "text/plain": [
              "CRIM     0\n",
              "ZN       0\n",
              "INDUS    0\n",
              "CHAS     0\n",
              "NOX      0\n",
              "RM       0\n",
              "AGE      0\n",
              "DIS      0\n",
              "RAD      0\n",
              "TAX      0\n",
              "PT       0\n",
              "B        0\n",
              "LSTAT    0\n",
              "MV       0\n",
              "dtype: int64"
            ]
          },
          "metadata": {},
          "execution_count": 8
        }
      ]
    },
    {
      "cell_type": "code",
      "source": [
        "X=data.iloc[:,:-1]\n",
        "X"
      ],
      "metadata": {
        "colab": {
          "base_uri": "https://localhost:8080/",
          "height": 424
        },
        "id": "UI1rzaq0Hgb_",
        "outputId": "8f31f014-80f1-4797-c320-2e015674e897"
      },
      "execution_count": 66,
      "outputs": [
        {
          "output_type": "execute_result",
          "data": {
            "text/plain": [
              "        CRIM    ZN  INDUS  CHAS    NOX     RM        AGE     DIS  RAD  TAX  \\\n",
              "0    0.00632  18.0   2.31     0  0.538  6.575  65.199997  4.0900    1  296   \n",
              "1    0.02731   0.0   7.07     0  0.469  6.421  78.900002  4.9671    2  242   \n",
              "2    0.02729   0.0   7.07     0  0.469  7.185  61.099998  4.9671    2  242   \n",
              "3    0.03237   0.0   2.18     0  0.458  6.998  45.799999  6.0622    3  222   \n",
              "4    0.06905   0.0   2.18     0  0.458  7.147  54.200001  6.0622    3  222   \n",
              "..       ...   ...    ...   ...    ...    ...        ...     ...  ...  ...   \n",
              "501  0.06263   0.0  11.93     0  0.573  6.593  69.099998  2.4786    1  273   \n",
              "502  0.04527   0.0  11.93     0  0.573  6.120  76.699997  2.2875    1  273   \n",
              "503  0.06076   0.0  11.93     0  0.573  6.976  91.000000  2.1675    1  273   \n",
              "504  0.10959   0.0  11.93     0  0.573  6.794  89.300003  2.3889    1  273   \n",
              "505  0.04741   0.0  11.93     0  0.573  6.030  80.800003  2.5050    1  273   \n",
              "\n",
              "            PT           B  LSTAT  \n",
              "0    15.300000  396.899994   4.98  \n",
              "1    17.799999  396.899994   9.14  \n",
              "2    17.799999  392.829987   4.03  \n",
              "3    18.700001  394.630005   2.94  \n",
              "4    18.700001  396.899994   5.33  \n",
              "..         ...         ...    ...  \n",
              "501  21.000000  391.989990   9.67  \n",
              "502  21.000000  396.899994   9.08  \n",
              "503  21.000000  396.899994   5.64  \n",
              "504  21.000000  393.450012   6.48  \n",
              "505  21.000000  396.899994   7.88  \n",
              "\n",
              "[506 rows x 13 columns]"
            ],
            "text/html": [
              "\n",
              "  <div id=\"df-ebee2f44-66e9-4133-bd41-7a6bf7aa0905\">\n",
              "    <div class=\"colab-df-container\">\n",
              "      <div>\n",
              "<style scoped>\n",
              "    .dataframe tbody tr th:only-of-type {\n",
              "        vertical-align: middle;\n",
              "    }\n",
              "\n",
              "    .dataframe tbody tr th {\n",
              "        vertical-align: top;\n",
              "    }\n",
              "\n",
              "    .dataframe thead th {\n",
              "        text-align: right;\n",
              "    }\n",
              "</style>\n",
              "<table border=\"1\" class=\"dataframe\">\n",
              "  <thead>\n",
              "    <tr style=\"text-align: right;\">\n",
              "      <th></th>\n",
              "      <th>CRIM</th>\n",
              "      <th>ZN</th>\n",
              "      <th>INDUS</th>\n",
              "      <th>CHAS</th>\n",
              "      <th>NOX</th>\n",
              "      <th>RM</th>\n",
              "      <th>AGE</th>\n",
              "      <th>DIS</th>\n",
              "      <th>RAD</th>\n",
              "      <th>TAX</th>\n",
              "      <th>PT</th>\n",
              "      <th>B</th>\n",
              "      <th>LSTAT</th>\n",
              "    </tr>\n",
              "  </thead>\n",
              "  <tbody>\n",
              "    <tr>\n",
              "      <th>0</th>\n",
              "      <td>0.00632</td>\n",
              "      <td>18.0</td>\n",
              "      <td>2.31</td>\n",
              "      <td>0</td>\n",
              "      <td>0.538</td>\n",
              "      <td>6.575</td>\n",
              "      <td>65.199997</td>\n",
              "      <td>4.0900</td>\n",
              "      <td>1</td>\n",
              "      <td>296</td>\n",
              "      <td>15.300000</td>\n",
              "      <td>396.899994</td>\n",
              "      <td>4.98</td>\n",
              "    </tr>\n",
              "    <tr>\n",
              "      <th>1</th>\n",
              "      <td>0.02731</td>\n",
              "      <td>0.0</td>\n",
              "      <td>7.07</td>\n",
              "      <td>0</td>\n",
              "      <td>0.469</td>\n",
              "      <td>6.421</td>\n",
              "      <td>78.900002</td>\n",
              "      <td>4.9671</td>\n",
              "      <td>2</td>\n",
              "      <td>242</td>\n",
              "      <td>17.799999</td>\n",
              "      <td>396.899994</td>\n",
              "      <td>9.14</td>\n",
              "    </tr>\n",
              "    <tr>\n",
              "      <th>2</th>\n",
              "      <td>0.02729</td>\n",
              "      <td>0.0</td>\n",
              "      <td>7.07</td>\n",
              "      <td>0</td>\n",
              "      <td>0.469</td>\n",
              "      <td>7.185</td>\n",
              "      <td>61.099998</td>\n",
              "      <td>4.9671</td>\n",
              "      <td>2</td>\n",
              "      <td>242</td>\n",
              "      <td>17.799999</td>\n",
              "      <td>392.829987</td>\n",
              "      <td>4.03</td>\n",
              "    </tr>\n",
              "    <tr>\n",
              "      <th>3</th>\n",
              "      <td>0.03237</td>\n",
              "      <td>0.0</td>\n",
              "      <td>2.18</td>\n",
              "      <td>0</td>\n",
              "      <td>0.458</td>\n",
              "      <td>6.998</td>\n",
              "      <td>45.799999</td>\n",
              "      <td>6.0622</td>\n",
              "      <td>3</td>\n",
              "      <td>222</td>\n",
              "      <td>18.700001</td>\n",
              "      <td>394.630005</td>\n",
              "      <td>2.94</td>\n",
              "    </tr>\n",
              "    <tr>\n",
              "      <th>4</th>\n",
              "      <td>0.06905</td>\n",
              "      <td>0.0</td>\n",
              "      <td>2.18</td>\n",
              "      <td>0</td>\n",
              "      <td>0.458</td>\n",
              "      <td>7.147</td>\n",
              "      <td>54.200001</td>\n",
              "      <td>6.0622</td>\n",
              "      <td>3</td>\n",
              "      <td>222</td>\n",
              "      <td>18.700001</td>\n",
              "      <td>396.899994</td>\n",
              "      <td>5.33</td>\n",
              "    </tr>\n",
              "    <tr>\n",
              "      <th>...</th>\n",
              "      <td>...</td>\n",
              "      <td>...</td>\n",
              "      <td>...</td>\n",
              "      <td>...</td>\n",
              "      <td>...</td>\n",
              "      <td>...</td>\n",
              "      <td>...</td>\n",
              "      <td>...</td>\n",
              "      <td>...</td>\n",
              "      <td>...</td>\n",
              "      <td>...</td>\n",
              "      <td>...</td>\n",
              "      <td>...</td>\n",
              "    </tr>\n",
              "    <tr>\n",
              "      <th>501</th>\n",
              "      <td>0.06263</td>\n",
              "      <td>0.0</td>\n",
              "      <td>11.93</td>\n",
              "      <td>0</td>\n",
              "      <td>0.573</td>\n",
              "      <td>6.593</td>\n",
              "      <td>69.099998</td>\n",
              "      <td>2.4786</td>\n",
              "      <td>1</td>\n",
              "      <td>273</td>\n",
              "      <td>21.000000</td>\n",
              "      <td>391.989990</td>\n",
              "      <td>9.67</td>\n",
              "    </tr>\n",
              "    <tr>\n",
              "      <th>502</th>\n",
              "      <td>0.04527</td>\n",
              "      <td>0.0</td>\n",
              "      <td>11.93</td>\n",
              "      <td>0</td>\n",
              "      <td>0.573</td>\n",
              "      <td>6.120</td>\n",
              "      <td>76.699997</td>\n",
              "      <td>2.2875</td>\n",
              "      <td>1</td>\n",
              "      <td>273</td>\n",
              "      <td>21.000000</td>\n",
              "      <td>396.899994</td>\n",
              "      <td>9.08</td>\n",
              "    </tr>\n",
              "    <tr>\n",
              "      <th>503</th>\n",
              "      <td>0.06076</td>\n",
              "      <td>0.0</td>\n",
              "      <td>11.93</td>\n",
              "      <td>0</td>\n",
              "      <td>0.573</td>\n",
              "      <td>6.976</td>\n",
              "      <td>91.000000</td>\n",
              "      <td>2.1675</td>\n",
              "      <td>1</td>\n",
              "      <td>273</td>\n",
              "      <td>21.000000</td>\n",
              "      <td>396.899994</td>\n",
              "      <td>5.64</td>\n",
              "    </tr>\n",
              "    <tr>\n",
              "      <th>504</th>\n",
              "      <td>0.10959</td>\n",
              "      <td>0.0</td>\n",
              "      <td>11.93</td>\n",
              "      <td>0</td>\n",
              "      <td>0.573</td>\n",
              "      <td>6.794</td>\n",
              "      <td>89.300003</td>\n",
              "      <td>2.3889</td>\n",
              "      <td>1</td>\n",
              "      <td>273</td>\n",
              "      <td>21.000000</td>\n",
              "      <td>393.450012</td>\n",
              "      <td>6.48</td>\n",
              "    </tr>\n",
              "    <tr>\n",
              "      <th>505</th>\n",
              "      <td>0.04741</td>\n",
              "      <td>0.0</td>\n",
              "      <td>11.93</td>\n",
              "      <td>0</td>\n",
              "      <td>0.573</td>\n",
              "      <td>6.030</td>\n",
              "      <td>80.800003</td>\n",
              "      <td>2.5050</td>\n",
              "      <td>1</td>\n",
              "      <td>273</td>\n",
              "      <td>21.000000</td>\n",
              "      <td>396.899994</td>\n",
              "      <td>7.88</td>\n",
              "    </tr>\n",
              "  </tbody>\n",
              "</table>\n",
              "<p>506 rows × 13 columns</p>\n",
              "</div>\n",
              "      <button class=\"colab-df-convert\" onclick=\"convertToInteractive('df-ebee2f44-66e9-4133-bd41-7a6bf7aa0905')\"\n",
              "              title=\"Convert this dataframe to an interactive table.\"\n",
              "              style=\"display:none;\">\n",
              "        \n",
              "  <svg xmlns=\"http://www.w3.org/2000/svg\" height=\"24px\"viewBox=\"0 0 24 24\"\n",
              "       width=\"24px\">\n",
              "    <path d=\"M0 0h24v24H0V0z\" fill=\"none\"/>\n",
              "    <path d=\"M18.56 5.44l.94 2.06.94-2.06 2.06-.94-2.06-.94-.94-2.06-.94 2.06-2.06.94zm-11 1L8.5 8.5l.94-2.06 2.06-.94-2.06-.94L8.5 2.5l-.94 2.06-2.06.94zm10 10l.94 2.06.94-2.06 2.06-.94-2.06-.94-.94-2.06-.94 2.06-2.06.94z\"/><path d=\"M17.41 7.96l-1.37-1.37c-.4-.4-.92-.59-1.43-.59-.52 0-1.04.2-1.43.59L10.3 9.45l-7.72 7.72c-.78.78-.78 2.05 0 2.83L4 21.41c.39.39.9.59 1.41.59.51 0 1.02-.2 1.41-.59l7.78-7.78 2.81-2.81c.8-.78.8-2.07 0-2.86zM5.41 20L4 18.59l7.72-7.72 1.47 1.35L5.41 20z\"/>\n",
              "  </svg>\n",
              "      </button>\n",
              "      \n",
              "  <style>\n",
              "    .colab-df-container {\n",
              "      display:flex;\n",
              "      flex-wrap:wrap;\n",
              "      gap: 12px;\n",
              "    }\n",
              "\n",
              "    .colab-df-convert {\n",
              "      background-color: #E8F0FE;\n",
              "      border: none;\n",
              "      border-radius: 50%;\n",
              "      cursor: pointer;\n",
              "      display: none;\n",
              "      fill: #1967D2;\n",
              "      height: 32px;\n",
              "      padding: 0 0 0 0;\n",
              "      width: 32px;\n",
              "    }\n",
              "\n",
              "    .colab-df-convert:hover {\n",
              "      background-color: #E2EBFA;\n",
              "      box-shadow: 0px 1px 2px rgba(60, 64, 67, 0.3), 0px 1px 3px 1px rgba(60, 64, 67, 0.15);\n",
              "      fill: #174EA6;\n",
              "    }\n",
              "\n",
              "    [theme=dark] .colab-df-convert {\n",
              "      background-color: #3B4455;\n",
              "      fill: #D2E3FC;\n",
              "    }\n",
              "\n",
              "    [theme=dark] .colab-df-convert:hover {\n",
              "      background-color: #434B5C;\n",
              "      box-shadow: 0px 1px 3px 1px rgba(0, 0, 0, 0.15);\n",
              "      filter: drop-shadow(0px 1px 2px rgba(0, 0, 0, 0.3));\n",
              "      fill: #FFFFFF;\n",
              "    }\n",
              "  </style>\n",
              "\n",
              "      <script>\n",
              "        const buttonEl =\n",
              "          document.querySelector('#df-ebee2f44-66e9-4133-bd41-7a6bf7aa0905 button.colab-df-convert');\n",
              "        buttonEl.style.display =\n",
              "          google.colab.kernel.accessAllowed ? 'block' : 'none';\n",
              "\n",
              "        async function convertToInteractive(key) {\n",
              "          const element = document.querySelector('#df-ebee2f44-66e9-4133-bd41-7a6bf7aa0905');\n",
              "          const dataTable =\n",
              "            await google.colab.kernel.invokeFunction('convertToInteractive',\n",
              "                                                     [key], {});\n",
              "          if (!dataTable) return;\n",
              "\n",
              "          const docLinkHtml = 'Like what you see? Visit the ' +\n",
              "            '<a target=\"_blank\" href=https://colab.research.google.com/notebooks/data_table.ipynb>data table notebook</a>'\n",
              "            + ' to learn more about interactive tables.';\n",
              "          element.innerHTML = '';\n",
              "          dataTable['output_type'] = 'display_data';\n",
              "          await google.colab.output.renderOutput(dataTable, element);\n",
              "          const docLink = document.createElement('div');\n",
              "          docLink.innerHTML = docLinkHtml;\n",
              "          element.appendChild(docLink);\n",
              "        }\n",
              "      </script>\n",
              "    </div>\n",
              "  </div>\n",
              "  "
            ]
          },
          "metadata": {},
          "execution_count": 66
        }
      ]
    },
    {
      "cell_type": "code",
      "source": [
        "Y=data.iloc[:,-1]\n",
        "Y"
      ],
      "metadata": {
        "colab": {
          "base_uri": "https://localhost:8080/"
        },
        "id": "xQH3EPGjIJaQ",
        "outputId": "e8c514f2-98f0-4d19-8f8e-dfb07cda94c6"
      },
      "execution_count": 65,
      "outputs": [
        {
          "output_type": "execute_result",
          "data": {
            "text/plain": [
              "0      24.000000\n",
              "1      21.600000\n",
              "2      34.700001\n",
              "3      33.400002\n",
              "4      36.200001\n",
              "         ...    \n",
              "501    22.400000\n",
              "502    20.600000\n",
              "503    23.900000\n",
              "504    22.000000\n",
              "505    11.900000\n",
              "Name: MV, Length: 506, dtype: float64"
            ]
          },
          "metadata": {},
          "execution_count": 65
        }
      ]
    },
    {
      "cell_type": "code",
      "source": [
        "correlation=data.corr()\n",
        "correlation"
      ],
      "metadata": {
        "colab": {
          "base_uri": "https://localhost:8080/",
          "height": 552
        },
        "id": "OnNeJGGGIbJT",
        "outputId": "5b1fdec5-72bd-4f3b-f4ba-340d22768ae8"
      },
      "execution_count": 11,
      "outputs": [
        {
          "output_type": "execute_result",
          "data": {
            "text/plain": [
              "           CRIM        ZN     INDUS      CHAS       NOX        RM       AGE  \\\n",
              "CRIM   1.000000 -0.200469  0.406583 -0.055892  0.420972 -0.219247  0.352734   \n",
              "ZN    -0.200469  1.000000 -0.533828 -0.042697 -0.516604  0.311991 -0.569537   \n",
              "INDUS  0.406583 -0.533828  1.000000  0.062938  0.763651 -0.391676  0.644779   \n",
              "CHAS  -0.055892 -0.042697  0.062938  1.000000  0.091203  0.091251  0.086518   \n",
              "NOX    0.420972 -0.516604  0.763651  0.091203  1.000000 -0.302188  0.731470   \n",
              "RM    -0.219247  0.311991 -0.391676  0.091251 -0.302188  1.000000 -0.240265   \n",
              "AGE    0.352734 -0.569537  0.644779  0.086518  0.731470 -0.240265  1.000000   \n",
              "DIS   -0.379670  0.664408 -0.708027 -0.099176 -0.769230  0.205246 -0.747881   \n",
              "RAD    0.625505 -0.311948  0.595129 -0.007368  0.611441 -0.209847  0.456022   \n",
              "TAX    0.582764 -0.314563  0.720760 -0.035587  0.668023 -0.292048  0.506456   \n",
              "PT     0.289946 -0.391679  0.383248 -0.121515  0.188933 -0.355502  0.261515   \n",
              "B     -0.385064  0.175520 -0.356977  0.048788 -0.380051  0.128069 -0.273534   \n",
              "LSTAT  0.455621 -0.412995  0.603800 -0.053929  0.590879 -0.613808  0.602339   \n",
              "MV    -0.388305  0.360445 -0.483725  0.175260 -0.427321  0.695360 -0.376955   \n",
              "\n",
              "            DIS       RAD       TAX        PT         B     LSTAT        MV  \n",
              "CRIM  -0.379670  0.625505  0.582764  0.289946 -0.385064  0.455621 -0.388305  \n",
              "ZN     0.664408 -0.311948 -0.314563 -0.391679  0.175520 -0.412995  0.360445  \n",
              "INDUS -0.708027  0.595129  0.720760  0.383248 -0.356977  0.603800 -0.483725  \n",
              "CHAS  -0.099176 -0.007368 -0.035587 -0.121515  0.048788 -0.053929  0.175260  \n",
              "NOX   -0.769230  0.611441  0.668023  0.188933 -0.380051  0.590879 -0.427321  \n",
              "RM     0.205246 -0.209847 -0.292048 -0.355502  0.128069 -0.613808  0.695360  \n",
              "AGE   -0.747881  0.456022  0.506456  0.261515 -0.273534  0.602339 -0.376955  \n",
              "DIS    1.000000 -0.494588 -0.534432 -0.232471  0.291512 -0.496996  0.249929  \n",
              "RAD   -0.494588  1.000000  0.910228  0.464741 -0.444413  0.488676 -0.381626  \n",
              "TAX   -0.534432  0.910228  1.000000  0.460853 -0.441808  0.543993 -0.468536  \n",
              "PT    -0.232471  0.464741  0.460853  1.000000 -0.177383  0.374044 -0.507787  \n",
              "B      0.291512 -0.444413 -0.441808 -0.177383  1.000000 -0.366087  0.333461  \n",
              "LSTAT -0.496996  0.488676  0.543993  0.374044 -0.366087  1.000000 -0.737663  \n",
              "MV     0.249929 -0.381626 -0.468536 -0.507787  0.333461 -0.737663  1.000000  "
            ],
            "text/html": [
              "\n",
              "  <div id=\"df-ac10bf24-a027-4f6b-a1ac-460308a7289a\">\n",
              "    <div class=\"colab-df-container\">\n",
              "      <div>\n",
              "<style scoped>\n",
              "    .dataframe tbody tr th:only-of-type {\n",
              "        vertical-align: middle;\n",
              "    }\n",
              "\n",
              "    .dataframe tbody tr th {\n",
              "        vertical-align: top;\n",
              "    }\n",
              "\n",
              "    .dataframe thead th {\n",
              "        text-align: right;\n",
              "    }\n",
              "</style>\n",
              "<table border=\"1\" class=\"dataframe\">\n",
              "  <thead>\n",
              "    <tr style=\"text-align: right;\">\n",
              "      <th></th>\n",
              "      <th>CRIM</th>\n",
              "      <th>ZN</th>\n",
              "      <th>INDUS</th>\n",
              "      <th>CHAS</th>\n",
              "      <th>NOX</th>\n",
              "      <th>RM</th>\n",
              "      <th>AGE</th>\n",
              "      <th>DIS</th>\n",
              "      <th>RAD</th>\n",
              "      <th>TAX</th>\n",
              "      <th>PT</th>\n",
              "      <th>B</th>\n",
              "      <th>LSTAT</th>\n",
              "      <th>MV</th>\n",
              "    </tr>\n",
              "  </thead>\n",
              "  <tbody>\n",
              "    <tr>\n",
              "      <th>CRIM</th>\n",
              "      <td>1.000000</td>\n",
              "      <td>-0.200469</td>\n",
              "      <td>0.406583</td>\n",
              "      <td>-0.055892</td>\n",
              "      <td>0.420972</td>\n",
              "      <td>-0.219247</td>\n",
              "      <td>0.352734</td>\n",
              "      <td>-0.379670</td>\n",
              "      <td>0.625505</td>\n",
              "      <td>0.582764</td>\n",
              "      <td>0.289946</td>\n",
              "      <td>-0.385064</td>\n",
              "      <td>0.455621</td>\n",
              "      <td>-0.388305</td>\n",
              "    </tr>\n",
              "    <tr>\n",
              "      <th>ZN</th>\n",
              "      <td>-0.200469</td>\n",
              "      <td>1.000000</td>\n",
              "      <td>-0.533828</td>\n",
              "      <td>-0.042697</td>\n",
              "      <td>-0.516604</td>\n",
              "      <td>0.311991</td>\n",
              "      <td>-0.569537</td>\n",
              "      <td>0.664408</td>\n",
              "      <td>-0.311948</td>\n",
              "      <td>-0.314563</td>\n",
              "      <td>-0.391679</td>\n",
              "      <td>0.175520</td>\n",
              "      <td>-0.412995</td>\n",
              "      <td>0.360445</td>\n",
              "    </tr>\n",
              "    <tr>\n",
              "      <th>INDUS</th>\n",
              "      <td>0.406583</td>\n",
              "      <td>-0.533828</td>\n",
              "      <td>1.000000</td>\n",
              "      <td>0.062938</td>\n",
              "      <td>0.763651</td>\n",
              "      <td>-0.391676</td>\n",
              "      <td>0.644779</td>\n",
              "      <td>-0.708027</td>\n",
              "      <td>0.595129</td>\n",
              "      <td>0.720760</td>\n",
              "      <td>0.383248</td>\n",
              "      <td>-0.356977</td>\n",
              "      <td>0.603800</td>\n",
              "      <td>-0.483725</td>\n",
              "    </tr>\n",
              "    <tr>\n",
              "      <th>CHAS</th>\n",
              "      <td>-0.055892</td>\n",
              "      <td>-0.042697</td>\n",
              "      <td>0.062938</td>\n",
              "      <td>1.000000</td>\n",
              "      <td>0.091203</td>\n",
              "      <td>0.091251</td>\n",
              "      <td>0.086518</td>\n",
              "      <td>-0.099176</td>\n",
              "      <td>-0.007368</td>\n",
              "      <td>-0.035587</td>\n",
              "      <td>-0.121515</td>\n",
              "      <td>0.048788</td>\n",
              "      <td>-0.053929</td>\n",
              "      <td>0.175260</td>\n",
              "    </tr>\n",
              "    <tr>\n",
              "      <th>NOX</th>\n",
              "      <td>0.420972</td>\n",
              "      <td>-0.516604</td>\n",
              "      <td>0.763651</td>\n",
              "      <td>0.091203</td>\n",
              "      <td>1.000000</td>\n",
              "      <td>-0.302188</td>\n",
              "      <td>0.731470</td>\n",
              "      <td>-0.769230</td>\n",
              "      <td>0.611441</td>\n",
              "      <td>0.668023</td>\n",
              "      <td>0.188933</td>\n",
              "      <td>-0.380051</td>\n",
              "      <td>0.590879</td>\n",
              "      <td>-0.427321</td>\n",
              "    </tr>\n",
              "    <tr>\n",
              "      <th>RM</th>\n",
              "      <td>-0.219247</td>\n",
              "      <td>0.311991</td>\n",
              "      <td>-0.391676</td>\n",
              "      <td>0.091251</td>\n",
              "      <td>-0.302188</td>\n",
              "      <td>1.000000</td>\n",
              "      <td>-0.240265</td>\n",
              "      <td>0.205246</td>\n",
              "      <td>-0.209847</td>\n",
              "      <td>-0.292048</td>\n",
              "      <td>-0.355502</td>\n",
              "      <td>0.128069</td>\n",
              "      <td>-0.613808</td>\n",
              "      <td>0.695360</td>\n",
              "    </tr>\n",
              "    <tr>\n",
              "      <th>AGE</th>\n",
              "      <td>0.352734</td>\n",
              "      <td>-0.569537</td>\n",
              "      <td>0.644779</td>\n",
              "      <td>0.086518</td>\n",
              "      <td>0.731470</td>\n",
              "      <td>-0.240265</td>\n",
              "      <td>1.000000</td>\n",
              "      <td>-0.747881</td>\n",
              "      <td>0.456022</td>\n",
              "      <td>0.506456</td>\n",
              "      <td>0.261515</td>\n",
              "      <td>-0.273534</td>\n",
              "      <td>0.602339</td>\n",
              "      <td>-0.376955</td>\n",
              "    </tr>\n",
              "    <tr>\n",
              "      <th>DIS</th>\n",
              "      <td>-0.379670</td>\n",
              "      <td>0.664408</td>\n",
              "      <td>-0.708027</td>\n",
              "      <td>-0.099176</td>\n",
              "      <td>-0.769230</td>\n",
              "      <td>0.205246</td>\n",
              "      <td>-0.747881</td>\n",
              "      <td>1.000000</td>\n",
              "      <td>-0.494588</td>\n",
              "      <td>-0.534432</td>\n",
              "      <td>-0.232471</td>\n",
              "      <td>0.291512</td>\n",
              "      <td>-0.496996</td>\n",
              "      <td>0.249929</td>\n",
              "    </tr>\n",
              "    <tr>\n",
              "      <th>RAD</th>\n",
              "      <td>0.625505</td>\n",
              "      <td>-0.311948</td>\n",
              "      <td>0.595129</td>\n",
              "      <td>-0.007368</td>\n",
              "      <td>0.611441</td>\n",
              "      <td>-0.209847</td>\n",
              "      <td>0.456022</td>\n",
              "      <td>-0.494588</td>\n",
              "      <td>1.000000</td>\n",
              "      <td>0.910228</td>\n",
              "      <td>0.464741</td>\n",
              "      <td>-0.444413</td>\n",
              "      <td>0.488676</td>\n",
              "      <td>-0.381626</td>\n",
              "    </tr>\n",
              "    <tr>\n",
              "      <th>TAX</th>\n",
              "      <td>0.582764</td>\n",
              "      <td>-0.314563</td>\n",
              "      <td>0.720760</td>\n",
              "      <td>-0.035587</td>\n",
              "      <td>0.668023</td>\n",
              "      <td>-0.292048</td>\n",
              "      <td>0.506456</td>\n",
              "      <td>-0.534432</td>\n",
              "      <td>0.910228</td>\n",
              "      <td>1.000000</td>\n",
              "      <td>0.460853</td>\n",
              "      <td>-0.441808</td>\n",
              "      <td>0.543993</td>\n",
              "      <td>-0.468536</td>\n",
              "    </tr>\n",
              "    <tr>\n",
              "      <th>PT</th>\n",
              "      <td>0.289946</td>\n",
              "      <td>-0.391679</td>\n",
              "      <td>0.383248</td>\n",
              "      <td>-0.121515</td>\n",
              "      <td>0.188933</td>\n",
              "      <td>-0.355502</td>\n",
              "      <td>0.261515</td>\n",
              "      <td>-0.232471</td>\n",
              "      <td>0.464741</td>\n",
              "      <td>0.460853</td>\n",
              "      <td>1.000000</td>\n",
              "      <td>-0.177383</td>\n",
              "      <td>0.374044</td>\n",
              "      <td>-0.507787</td>\n",
              "    </tr>\n",
              "    <tr>\n",
              "      <th>B</th>\n",
              "      <td>-0.385064</td>\n",
              "      <td>0.175520</td>\n",
              "      <td>-0.356977</td>\n",
              "      <td>0.048788</td>\n",
              "      <td>-0.380051</td>\n",
              "      <td>0.128069</td>\n",
              "      <td>-0.273534</td>\n",
              "      <td>0.291512</td>\n",
              "      <td>-0.444413</td>\n",
              "      <td>-0.441808</td>\n",
              "      <td>-0.177383</td>\n",
              "      <td>1.000000</td>\n",
              "      <td>-0.366087</td>\n",
              "      <td>0.333461</td>\n",
              "    </tr>\n",
              "    <tr>\n",
              "      <th>LSTAT</th>\n",
              "      <td>0.455621</td>\n",
              "      <td>-0.412995</td>\n",
              "      <td>0.603800</td>\n",
              "      <td>-0.053929</td>\n",
              "      <td>0.590879</td>\n",
              "      <td>-0.613808</td>\n",
              "      <td>0.602339</td>\n",
              "      <td>-0.496996</td>\n",
              "      <td>0.488676</td>\n",
              "      <td>0.543993</td>\n",
              "      <td>0.374044</td>\n",
              "      <td>-0.366087</td>\n",
              "      <td>1.000000</td>\n",
              "      <td>-0.737663</td>\n",
              "    </tr>\n",
              "    <tr>\n",
              "      <th>MV</th>\n",
              "      <td>-0.388305</td>\n",
              "      <td>0.360445</td>\n",
              "      <td>-0.483725</td>\n",
              "      <td>0.175260</td>\n",
              "      <td>-0.427321</td>\n",
              "      <td>0.695360</td>\n",
              "      <td>-0.376955</td>\n",
              "      <td>0.249929</td>\n",
              "      <td>-0.381626</td>\n",
              "      <td>-0.468536</td>\n",
              "      <td>-0.507787</td>\n",
              "      <td>0.333461</td>\n",
              "      <td>-0.737663</td>\n",
              "      <td>1.000000</td>\n",
              "    </tr>\n",
              "  </tbody>\n",
              "</table>\n",
              "</div>\n",
              "      <button class=\"colab-df-convert\" onclick=\"convertToInteractive('df-ac10bf24-a027-4f6b-a1ac-460308a7289a')\"\n",
              "              title=\"Convert this dataframe to an interactive table.\"\n",
              "              style=\"display:none;\">\n",
              "        \n",
              "  <svg xmlns=\"http://www.w3.org/2000/svg\" height=\"24px\"viewBox=\"0 0 24 24\"\n",
              "       width=\"24px\">\n",
              "    <path d=\"M0 0h24v24H0V0z\" fill=\"none\"/>\n",
              "    <path d=\"M18.56 5.44l.94 2.06.94-2.06 2.06-.94-2.06-.94-.94-2.06-.94 2.06-2.06.94zm-11 1L8.5 8.5l.94-2.06 2.06-.94-2.06-.94L8.5 2.5l-.94 2.06-2.06.94zm10 10l.94 2.06.94-2.06 2.06-.94-2.06-.94-.94-2.06-.94 2.06-2.06.94z\"/><path d=\"M17.41 7.96l-1.37-1.37c-.4-.4-.92-.59-1.43-.59-.52 0-1.04.2-1.43.59L10.3 9.45l-7.72 7.72c-.78.78-.78 2.05 0 2.83L4 21.41c.39.39.9.59 1.41.59.51 0 1.02-.2 1.41-.59l7.78-7.78 2.81-2.81c.8-.78.8-2.07 0-2.86zM5.41 20L4 18.59l7.72-7.72 1.47 1.35L5.41 20z\"/>\n",
              "  </svg>\n",
              "      </button>\n",
              "      \n",
              "  <style>\n",
              "    .colab-df-container {\n",
              "      display:flex;\n",
              "      flex-wrap:wrap;\n",
              "      gap: 12px;\n",
              "    }\n",
              "\n",
              "    .colab-df-convert {\n",
              "      background-color: #E8F0FE;\n",
              "      border: none;\n",
              "      border-radius: 50%;\n",
              "      cursor: pointer;\n",
              "      display: none;\n",
              "      fill: #1967D2;\n",
              "      height: 32px;\n",
              "      padding: 0 0 0 0;\n",
              "      width: 32px;\n",
              "    }\n",
              "\n",
              "    .colab-df-convert:hover {\n",
              "      background-color: #E2EBFA;\n",
              "      box-shadow: 0px 1px 2px rgba(60, 64, 67, 0.3), 0px 1px 3px 1px rgba(60, 64, 67, 0.15);\n",
              "      fill: #174EA6;\n",
              "    }\n",
              "\n",
              "    [theme=dark] .colab-df-convert {\n",
              "      background-color: #3B4455;\n",
              "      fill: #D2E3FC;\n",
              "    }\n",
              "\n",
              "    [theme=dark] .colab-df-convert:hover {\n",
              "      background-color: #434B5C;\n",
              "      box-shadow: 0px 1px 3px 1px rgba(0, 0, 0, 0.15);\n",
              "      filter: drop-shadow(0px 1px 2px rgba(0, 0, 0, 0.3));\n",
              "      fill: #FFFFFF;\n",
              "    }\n",
              "  </style>\n",
              "\n",
              "      <script>\n",
              "        const buttonEl =\n",
              "          document.querySelector('#df-ac10bf24-a027-4f6b-a1ac-460308a7289a button.colab-df-convert');\n",
              "        buttonEl.style.display =\n",
              "          google.colab.kernel.accessAllowed ? 'block' : 'none';\n",
              "\n",
              "        async function convertToInteractive(key) {\n",
              "          const element = document.querySelector('#df-ac10bf24-a027-4f6b-a1ac-460308a7289a');\n",
              "          const dataTable =\n",
              "            await google.colab.kernel.invokeFunction('convertToInteractive',\n",
              "                                                     [key], {});\n",
              "          if (!dataTable) return;\n",
              "\n",
              "          const docLinkHtml = 'Like what you see? Visit the ' +\n",
              "            '<a target=\"_blank\" href=https://colab.research.google.com/notebooks/data_table.ipynb>data table notebook</a>'\n",
              "            + ' to learn more about interactive tables.';\n",
              "          element.innerHTML = '';\n",
              "          dataTable['output_type'] = 'display_data';\n",
              "          await google.colab.output.renderOutput(dataTable, element);\n",
              "          const docLink = document.createElement('div');\n",
              "          docLink.innerHTML = docLinkHtml;\n",
              "          element.appendChild(docLink);\n",
              "        }\n",
              "      </script>\n",
              "    </div>\n",
              "  </div>\n",
              "  "
            ]
          },
          "metadata": {},
          "execution_count": 11
        }
      ]
    },
    {
      "cell_type": "code",
      "source": [
        "sns.heatmap(correlation)"
      ],
      "metadata": {
        "colab": {
          "base_uri": "https://localhost:8080/",
          "height": 308
        },
        "id": "uT6dsGmPZBdB",
        "outputId": "1398f840-3966-4f13-c3bc-be5f529e06d7"
      },
      "execution_count": 12,
      "outputs": [
        {
          "output_type": "execute_result",
          "data": {
            "text/plain": [
              "<matplotlib.axes._subplots.AxesSubplot at 0x7f3c25e36090>"
            ]
          },
          "metadata": {},
          "execution_count": 12
        },
        {
          "output_type": "display_data",
          "data": {
            "text/plain": [
              "<Figure size 432x288 with 2 Axes>"
            ],
            "image/png": "[encoded data removed]"
          },
          "metadata": {
            "needs_background": "light"
          }
        }
      ]
    },
    {
      "cell_type": "code",
      "source": [
        "# Statsmodels.OLS requires us to add a constant.\n",
        "model = sm.OLS(Y,X)\n",
        "results = model.fit()\n",
        "print(results.summary())"
      ],
      "metadata": {
        "colab": {
          "base_uri": "https://localhost:8080/"
        },
        "id": "0Y6LUIgKIqll",
        "outputId": "6f811540-8938-4f0f-f550-5572e9271166"
      },
      "execution_count": 13,
      "outputs": [
        {
          "output_type": "stream",
          "name": "stdout",
          "text": [
            "                                 OLS Regression Results                                \n",
            "=======================================================================================\n",
            "Dep. Variable:                     MV   R-squared (uncentered):                   0.959\n",
            "Model:                            OLS   Adj. R-squared (uncentered):              0.958\n",
            "Method:                 Least Squares   F-statistic:                              891.3\n",
            "Date:                Wed, 21 Sep 2022   Prob (F-statistic):                        0.00\n",
            "Time:                        22:36:41   Log-Likelihood:                         -1523.8\n",
            "No. Observations:                 506   AIC:                                      3074.\n",
            "Df Residuals:                     493   BIC:                                      3128.\n",
            "Df Model:                          13                                                  \n",
            "Covariance Type:            nonrobust                                                  \n",
            "==============================================================================\n",
            "                 coef    std err          t      P>|t|      [0.025      0.975]\n",
            "------------------------------------------------------------------------------\n",
            "CRIM          -0.0929      0.034     -2.699      0.007      -0.161      -0.025\n",
            "ZN             0.0487      0.014      3.382      0.001       0.020       0.077\n",
            "INDUS         -0.0041      0.064     -0.063      0.950      -0.131       0.123\n",
            "CHAS           2.8540      0.904      3.157      0.002       1.078       4.630\n",
            "NOX           -2.8684      3.359     -0.854      0.394      -9.468       3.731\n",
            "RM             5.9281      0.309     19.178      0.000       5.321       6.535\n",
            "AGE           -0.0073      0.014     -0.526      0.599      -0.034       0.020\n",
            "DIS           -0.9685      0.196     -4.951      0.000      -1.353      -0.584\n",
            "RAD            0.1712      0.067      2.564      0.011       0.040       0.302\n",
            "TAX           -0.0094      0.004     -2.395      0.017      -0.017      -0.002\n",
            "PT            -0.3922      0.110     -3.570      0.000      -0.608      -0.176\n",
            "B              0.0149      0.003      5.528      0.000       0.010       0.020\n",
            "LSTAT         -0.4163      0.051     -8.197      0.000      -0.516      -0.317\n",
            "==============================================================================\n",
            "Omnibus:                      204.082   Durbin-Watson:                   0.999\n",
            "Prob(Omnibus):                  0.000   Jarque-Bera (JB):             1374.225\n",
            "Skew:                           1.609   Prob(JB):                    3.90e-299\n",
            "Kurtosis:                      10.404   Cond. No.                     8.50e+03\n",
            "==============================================================================\n",
            "\n",
            "Notes:\n",
            "[1] R² is computed without centering (uncentered) since the model does not contain a constant.\n",
            "[2] Standard Errors assume that the covariance matrix of the errors is correctly specified.\n",
            "[3] The condition number is large, 8.5e+03. This might indicate that there are\n",
            "strong multicollinearity or other numerical problems.\n"
          ]
        }
      ]
    },
    {
      "cell_type": "code",
      "source": [
        "X=X[['RM','LSTAT','PT','TAX']]"
      ],
      "metadata": {
        "id": "FJA2DNfsLRVE"
      },
      "execution_count": 14,
      "outputs": []
    },
    {
      "cell_type": "code",
      "source": [
        "model = sm.OLS(Y,X)\n",
        "results = model.fit()\n",
        "print(results.summary())"
      ],
      "metadata": {
        "colab": {
          "base_uri": "https://localhost:8080/"
        },
        "id": "RrkZWpvjKdhS",
        "outputId": "57ca0302-5987-4c1e-b29e-f18f6b6b1aee"
      },
      "execution_count": 15,
      "outputs": [
        {
          "output_type": "stream",
          "name": "stdout",
          "text": [
            "                                 OLS Regression Results                                \n",
            "=======================================================================================\n",
            "Dep. Variable:                     MV   R-squared (uncentered):                   0.953\n",
            "Model:                            OLS   Adj. R-squared (uncentered):              0.952\n",
            "Method:                 Least Squares   F-statistic:                              2518.\n",
            "Date:                Wed, 21 Sep 2022   Prob (F-statistic):                        0.00\n",
            "Time:                        22:36:41   Log-Likelihood:                         -1562.0\n",
            "No. Observations:                 506   AIC:                                      3132.\n",
            "Df Residuals:                     502   BIC:                                      3149.\n",
            "Df Model:                           4                                                  \n",
            "Covariance Type:            nonrobust                                                  \n",
            "==============================================================================\n",
            "                 coef    std err          t      P>|t|      [0.025      0.975]\n",
            "------------------------------------------------------------------------------\n",
            "RM             6.2233      0.225     27.665      0.000       5.781       6.665\n",
            "LSTAT         -0.4549      0.043    -10.498      0.000      -0.540      -0.370\n",
            "PT            -0.5096      0.096     -5.283      0.000      -0.699      -0.320\n",
            "TAX           -0.0036      0.002     -2.053      0.041      -0.007      -0.000\n",
            "==============================================================================\n",
            "Omnibus:                      227.939   Durbin-Watson:                   0.870\n",
            "Prob(Omnibus):                  0.000   Jarque-Bera (JB):             1547.277\n",
            "Skew:                           1.840   Prob(JB):                         0.00\n",
            "Kurtosis:                      10.736   Cond. No.                         454.\n",
            "==============================================================================\n",
            "\n",
            "Notes:\n",
            "[1] R² is computed without centering (uncentered) since the model does not contain a constant.\n",
            "[2] Standard Errors assume that the covariance matrix of the errors is correctly specified.\n"
          ]
        }
      ]
    },
    {
      "cell_type": "code",
      "source": [
        "X_train, X_test, y_train, y_test = train_test_split(X, Y, test_size = 0.25)\n"
      ],
      "metadata": {
        "id": "qyOJkgogLAQU"
      },
      "execution_count": 67,
      "outputs": []
    },
    {
      "cell_type": "code",
      "source": [
        "print(X_train.shape)\n",
        "print(y_train.shape)\n",
        "print(X_test.shape)\n",
        "print(y_test.shape)"
      ],
      "metadata": {
        "colab": {
          "base_uri": "https://localhost:8080/"
        },
        "id": "AQB1S_nmrgRR",
        "outputId": "81df00ad-29cf-4c22-f4ba-49ead3643c19"
      },
      "execution_count": 68,
      "outputs": [
        {
          "output_type": "stream",
          "name": "stdout",
          "text": [
            "(379, 13)\n",
            "(379,)\n",
            "(127, 13)\n",
            "(127,)\n"
          ]
        }
      ]
    },
    {
      "cell_type": "code",
      "source": [
        "from sklearn import linear_model\n",
        "reg_model=linear_model.LinearRegression()"
      ],
      "metadata": {
        "id": "aaGpdMkcyE61"
      },
      "execution_count": 69,
      "outputs": []
    },
    {
      "cell_type": "code",
      "source": [
        "reg_model.fit(X_train,y_train)"
      ],
      "metadata": {
        "colab": {
          "base_uri": "https://localhost:8080/"
        },
        "id": "kDInTtFjjWmG",
        "outputId": "0e979ac2-7792-4e4e-cc0c-61999bc02230"
      },
      "execution_count": 70,
      "outputs": [
        {
          "output_type": "execute_result",
          "data": {
            "text/plain": [
              "LinearRegression()"
            ]
          },
          "metadata": {},
          "execution_count": 70
        }
      ]
    },
    {
      "cell_type": "code",
      "source": [
        "y_pred=reg_model.predict(X_test)\n",
        "print('Coefficients:',reg_model.coef_, 'R2 Score:',reg_model.score(X, Y))"
      ],
      "metadata": {
        "id": "ih7MrYIZjdj2",
        "colab": {
          "base_uri": "https://localhost:8080/"
        },
        "outputId": "fb7face9-0226-4c1e-e051-5e5c747ed00d"
      },
      "execution_count": 71,
      "outputs": [
        {
          "output_type": "stream",
          "name": "stdout",
          "text": [
            "Coefficients: [-8.99378158e-02  4.06713067e-02  3.48920906e-02  2.70980219e+00\n",
            " -1.57743253e+01  4.60431501e+00 -1.39683569e-02 -1.36999129e+00\n",
            "  2.42966161e-01 -1.28385643e-02 -8.74922600e-01  5.25474417e-03\n",
            " -4.52805611e-01] R2 Score: 0.735357549377645\n"
          ]
        }
      ]
    },
    {
      "cell_type": "code",
      "source": [
        "result=pd.DataFrame()\n",
        "result['Y_test']=y_test\n",
        "result['Predicted Result']=y_pred"
      ],
      "metadata": {
        "id": "BPpCZFJzlai2"
      },
      "execution_count": 21,
      "outputs": []
    },
    {
      "cell_type": "code",
      "source": [
        "result"
      ],
      "metadata": {
        "colab": {
          "base_uri": "https://localhost:8080/",
          "height": 424
        },
        "id": "YnA0W6gzlkQr",
        "outputId": "c70ae30a-f9e5-4574-eb94-65f6792cfdf7"
      },
      "execution_count": 22,
      "outputs": [
        {
          "output_type": "execute_result",
          "data": {
            "text/plain": [
              "        Y_test  Predicted Result\n",
              "162  50.000000         38.626088\n",
              "163  50.000000         40.541468\n",
              "399   6.300000          8.838952\n",
              "247  20.500000         23.242057\n",
              "66   19.400000         24.038977\n",
              "..         ...               ...\n",
              "220  26.700001         28.537614\n",
              "326  23.000000         25.393431\n",
              "359  22.600000         18.903418\n",
              "128  18.000000         19.008119\n",
              "85   26.600000         27.894080\n",
              "\n",
              "[169 rows x 2 columns]"
            ],
            "text/html": [
              "\n",
              "  <div id=\"df-e3583911-3ae8-48c5-bfec-342a63556980\">\n",
              "    <div class=\"colab-df-container\">\n",
              "      <div>\n",
              "<style scoped>\n",
              "    .dataframe tbody tr th:only-of-type {\n",
              "        vertical-align: middle;\n",
              "    }\n",
              "\n",
              "    .dataframe tbody tr th {\n",
              "        vertical-align: top;\n",
              "    }\n",
              "\n",
              "    .dataframe thead th {\n",
              "        text-align: right;\n",
              "    }\n",
              "</style>\n",
              "<table border=\"1\" class=\"dataframe\">\n",
              "  <thead>\n",
              "    <tr style=\"text-align: right;\">\n",
              "      <th></th>\n",
              "      <th>Y_test</th>\n",
              "      <th>Predicted Result</th>\n",
              "    </tr>\n",
              "  </thead>\n",
              "  <tbody>\n",
              "    <tr>\n",
              "      <th>162</th>\n",
              "      <td>50.000000</td>\n",
              "      <td>38.626088</td>\n",
              "    </tr>\n",
              "    <tr>\n",
              "      <th>163</th>\n",
              "      <td>50.000000</td>\n",
              "      <td>40.541468</td>\n",
              "    </tr>\n",
              "    <tr>\n",
              "      <th>399</th>\n",
              "      <td>6.300000</td>\n",
              "      <td>8.838952</td>\n",
              "    </tr>\n",
              "    <tr>\n",
              "      <th>247</th>\n",
              "      <td>20.500000</td>\n",
              "      <td>23.242057</td>\n",
              "    </tr>\n",
              "    <tr>\n",
              "      <th>66</th>\n",
              "      <td>19.400000</td>\n",
              "      <td>24.038977</td>\n",
              "    </tr>\n",
              "    <tr>\n",
              "      <th>...</th>\n",
              "      <td>...</td>\n",
              "      <td>...</td>\n",
              "    </tr>\n",
              "    <tr>\n",
              "      <th>220</th>\n",
              "      <td>26.700001</td>\n",
              "      <td>28.537614</td>\n",
              "    </tr>\n",
              "    <tr>\n",
              "      <th>326</th>\n",
              "      <td>23.000000</td>\n",
              "      <td>25.393431</td>\n",
              "    </tr>\n",
              "    <tr>\n",
              "      <th>359</th>\n",
              "      <td>22.600000</td>\n",
              "      <td>18.903418</td>\n",
              "    </tr>\n",
              "    <tr>\n",
              "      <th>128</th>\n",
              "      <td>18.000000</td>\n",
              "      <td>19.008119</td>\n",
              "    </tr>\n",
              "    <tr>\n",
              "      <th>85</th>\n",
              "      <td>26.600000</td>\n",
              "      <td>27.894080</td>\n",
              "    </tr>\n",
              "  </tbody>\n",
              "</table>\n",
              "<p>169 rows × 2 columns</p>\n",
              "</div>\n",
              "      <button class=\"colab-df-convert\" onclick=\"convertToInteractive('df-e3583911-3ae8-48c5-bfec-342a63556980')\"\n",
              "              title=\"Convert this dataframe to an interactive table.\"\n",
              "              style=\"display:none;\">\n",
              "        \n",
              "  <svg xmlns=\"http://www.w3.org/2000/svg\" height=\"24px\"viewBox=\"0 0 24 24\"\n",
              "       width=\"24px\">\n",
              "    <path d=\"M0 0h24v24H0V0z\" fill=\"none\"/>\n",
              "    <path d=\"M18.56 5.44l.94 2.06.94-2.06 2.06-.94-2.06-.94-.94-2.06-.94 2.06-2.06.94zm-11 1L8.5 8.5l.94-2.06 2.06-.94-2.06-.94L8.5 2.5l-.94 2.06-2.06.94zm10 10l.94 2.06.94-2.06 2.06-.94-2.06-.94-.94-2.06-.94 2.06-2.06.94z\"/><path d=\"M17.41 7.96l-1.37-1.37c-.4-.4-.92-.59-1.43-.59-.52 0-1.04.2-1.43.59L10.3 9.45l-7.72 7.72c-.78.78-.78 2.05 0 2.83L4 21.41c.39.39.9.59 1.41.59.51 0 1.02-.2 1.41-.59l7.78-7.78 2.81-2.81c.8-.78.8-2.07 0-2.86zM5.41 20L4 18.59l7.72-7.72 1.47 1.35L5.41 20z\"/>\n",
              "  </svg>\n",
              "      </button>\n",
              "      \n",
              "  <style>\n",
              "    .colab-df-container {\n",
              "      display:flex;\n",
              "      flex-wrap:wrap;\n",
              "      gap: 12px;\n",
              "    }\n",
              "\n",
              "    .colab-df-convert {\n",
              "      background-color: #E8F0FE;\n",
              "      border: none;\n",
              "      border-radius: 50%;\n",
              "      cursor: pointer;\n",
              "      display: none;\n",
              "      fill: #1967D2;\n",
              "      height: 32px;\n",
              "      padding: 0 0 0 0;\n",
              "      width: 32px;\n",
              "    }\n",
              "\n",
              "    .colab-df-convert:hover {\n",
              "      background-color: #E2EBFA;\n",
              "      box-shadow: 0px 1px 2px rgba(60, 64, 67, 0.3), 0px 1px 3px 1px rgba(60, 64, 67, 0.15);\n",
              "      fill: #174EA6;\n",
              "    }\n",
              "\n",
              "    [theme=dark] .colab-df-convert {\n",
              "      background-color: #3B4455;\n",
              "      fill: #D2E3FC;\n",
              "    }\n",
              "\n",
              "    [theme=dark] .colab-df-convert:hover {\n",
              "      background-color: #434B5C;\n",
              "      box-shadow: 0px 1px 3px 1px rgba(0, 0, 0, 0.15);\n",
              "      filter: drop-shadow(0px 1px 2px rgba(0, 0, 0, 0.3));\n",
              "      fill: #FFFFFF;\n",
              "    }\n",
              "  </style>\n",
              "\n",
              "      <script>\n",
              "        const buttonEl =\n",
              "          document.querySelector('#df-e3583911-3ae8-48c5-bfec-342a63556980 button.colab-df-convert');\n",
              "        buttonEl.style.display =\n",
              "          google.colab.kernel.accessAllowed ? 'block' : 'none';\n",
              "\n",
              "        async function convertToInteractive(key) {\n",
              "          const element = document.querySelector('#df-e3583911-3ae8-48c5-bfec-342a63556980');\n",
              "          const dataTable =\n",
              "            await google.colab.kernel.invokeFunction('convertToInteractive',\n",
              "                                                     [key], {});\n",
              "          if (!dataTable) return;\n",
              "\n",
              "          const docLinkHtml = 'Like what you see? Visit the ' +\n",
              "            '<a target=\"_blank\" href=https://colab.research.google.com/notebooks/data_table.ipynb>data table notebook</a>'\n",
              "            + ' to learn more about interactive tables.';\n",
              "          element.innerHTML = '';\n",
              "          dataTable['output_type'] = 'display_data';\n",
              "          await google.colab.output.renderOutput(dataTable, element);\n",
              "          const docLink = document.createElement('div');\n",
              "          docLink.innerHTML = docLinkHtml;\n",
              "          element.appendChild(docLink);\n",
              "        }\n",
              "      </script>\n",
              "    </div>\n",
              "  </div>\n",
              "  "
            ]
          },
          "metadata": {},
          "execution_count": 22
        }
      ]
    },
    {
      "cell_type": "code",
      "source": [
        "from sklearn.metrics import r2_score\n",
        "print(\"Proportion of variance: %.2f\" % r2_score(y_test, y_pred))"
      ],
      "metadata": {
        "colab": {
          "base_uri": "https://localhost:8080/"
        },
        "id": "7qNuJ4f_mivw",
        "outputId": "d371973d-446e-4ebb-81dc-6ee0ce632bbc"
      },
      "execution_count": 72,
      "outputs": [
        {
          "output_type": "stream",
          "name": "stdout",
          "text": [
            "Proportion of variance: 0.69\n"
          ]
        }
      ]
    },
    {
      "cell_type": "code",
      "source": [
        "import matplotlib.pyplot as plt\n",
        "#plt.scatter(X_train[:,1], y_train, color=\"black\")\n",
        "plt.scatter(y_test,y_pred)\n",
        "plt.show()"
      ],
      "metadata": {
        "colab": {
          "base_uri": "https://localhost:8080/",
          "height": 265
        },
        "id": "o_9ezRK3ohDh",
        "outputId": "f2bad001-5be0-4ced-fd1f-c4507938e080"
      },
      "execution_count": 24,
      "outputs": [
        {
          "output_type": "display_data",
          "data": {
            "text/plain": [
              "<Figure size 432x288 with 1 Axes>"
            ],
            "image/png": "[encoded data removed]"
          },
          "metadata": {
            "needs_background": "light"
          }
        }
      ]
    },
    {
      "cell_type": "code",
      "source": [
        "import seaborn as sns\n",
        "sns.distplot((y_pred),bins=50);"
      ],
      "metadata": {
        "id": "07jjoQgAo5W1",
        "colab": {
          "base_uri": "https://localhost:8080/",
          "height": 321
        },
        "outputId": "6808b4f1-f1fa-4e32-bbfa-56ec14dc97ea"
      },
      "execution_count": 25,
      "outputs": [
        {
          "output_type": "stream",
          "name": "stderr",
          "text": [
            "/usr/local/lib/python3.7/dist-packages/seaborn/distributions.py:2619: FutureWarning: `distplot` is a deprecated function and will be removed in a future version. Please adapt your code to use either `displot` (a figure-level function with similar flexibility) or `histplot` (an axes-level function for histograms).\n",
            "  warnings.warn(msg, FutureWarning)\n"
          ]
        },
        {
          "output_type": "display_data",
          "data": {
            "text/plain": [
              "<Figure size 432x288 with 1 Axes>"
            ],
            "image/png": "[encoded data removed]"
          },
          "metadata": {
            "needs_background": "light"
          }
        }
      ]
    },
    {
      "cell_type": "markdown",
      "source": [
        "Logistic Regression:\n",
        "Apply logistic regression on the Loan dataset with \"Decision\" as the dependent variable. Do the necessary one-hot encoding for the categorical variables and discard the irrelevant variables. Use whatever libraries are appropriate when coding in Python."
      ],
      "metadata": {
        "id": "iPViYrMQPoUy"
      }
    },
    {
      "cell_type": "code",
      "source": [
        "import pandas as pd\n",
        "import numpy as np\n"
      ],
      "metadata": {
        "id": "UL-ZmcdMPpkq"
      },
      "execution_count": 26,
      "outputs": []
    },
    {
      "cell_type": "code",
      "source": [
        "loan_data=pd.read_excel('/content/loan.xlsx')"
      ],
      "metadata": {
        "id": "7OEy6PfuQGQt"
      },
      "execution_count": 28,
      "outputs": []
    },
    {
      "cell_type": "code",
      "source": [
        "print(loan_data.shape)\n",
        "loan_data"
      ],
      "metadata": {
        "colab": {
          "base_uri": "https://localhost:8080/",
          "height": 505
        },
        "id": "eI5xALdSQMC1",
        "outputId": "7aa591e0-3be8-42bb-8f9c-2650419cf12d"
      },
      "execution_count": 29,
      "outputs": [
        {
          "output_type": "stream",
          "name": "stdout",
          "text": [
            "(429, 14)\n"
          ]
        },
        {
          "output_type": "execute_result",
          "data": {
            "text/plain": [
              "    Sex        Age  Time_at_address Res_status  Telephone Occupation  \\\n",
              "0     M  50.750000            0.585      owner      given  unemploye   \n",
              "1     M  19.670000           10.000       rent  not_given   labourer   \n",
              "2     F  52.830002           15.000      owner      given  creative_   \n",
              "3     M  22.670000            2.540       rent  not_given  creative_   \n",
              "4     M  29.250000           13.000      owner      given     driver   \n",
              "..   ..        ...              ...        ...        ...        ...   \n",
              "424   M  34.169998            2.750      owner      given  guard_etc   \n",
              "425   F  22.250000            1.250       rent  not_given  unemploye   \n",
              "426   M  23.330000            1.500      owner      given  creative_   \n",
              "427   M  21.000000            4.790       rent  not_given  productio   \n",
              "428   M  27.750000            1.290      owner      given   labourer   \n",
              "\n",
              "    Job_status  Time_employed  Time_bank Liab_ref    Acc_ref  Home_Expn  \\\n",
              "0    unemploye              0          0        f      given        145   \n",
              "1    governmen              0          0        t      given        140   \n",
              "2    private_s              5         14        f      given          0   \n",
              "3    governmen              2          0        f      given          0   \n",
              "4    governmen              0          0        f      given        228   \n",
              "..         ...            ...        ...      ...        ...        ...   \n",
              "424  self_empl              2          0        t      given        232   \n",
              "425  unemploye              3          0        f      given        280   \n",
              "426  governmen              1          0        f      given        422   \n",
              "427  private_s              2          1        t      given         80   \n",
              "428  governmen              0          0        t  oth_inst_        140   \n",
              "\n",
              "     Balance Decision  \n",
              "0          0   reject  \n",
              "1          0   reject  \n",
              "2       2200   accept  \n",
              "3          0   accept  \n",
              "4          0   reject  \n",
              "..       ...      ...  \n",
              "424      200   reject  \n",
              "425        0   reject  \n",
              "426      200   accept  \n",
              "427      300   accept  \n",
              "428        0   reject  \n",
              "\n",
              "[429 rows x 14 columns]"
            ],
            "text/html": [
              "\n",
              "  <div id=\"df-9c70cc0f-9b55-4731-bab7-4e5027c30fc6\">\n",
              "    <div class=\"colab-df-container\">\n",
              "      <div>\n",
              "<style scoped>\n",
              "    .dataframe tbody tr th:only-of-type {\n",
              "        vertical-align: middle;\n",
              "    }\n",
              "\n",
              "    .dataframe tbody tr th {\n",
              "        vertical-align: top;\n",
              "    }\n",
              "\n",
              "    .dataframe thead th {\n",
              "        text-align: right;\n",
              "    }\n",
              "</style>\n",
              "<table border=\"1\" class=\"dataframe\">\n",
              "  <thead>\n",
              "    <tr style=\"text-align: right;\">\n",
              "      <th></th>\n",
              "      <th>Sex</th>\n",
              "      <th>Age</th>\n",
              "      <th>Time_at_address</th>\n",
              "      <th>Res_status</th>\n",
              "      <th>Telephone</th>\n",
              "      <th>Occupation</th>\n",
              "      <th>Job_status</th>\n",
              "      <th>Time_employed</th>\n",
              "      <th>Time_bank</th>\n",
              "      <th>Liab_ref</th>\n",
              "      <th>Acc_ref</th>\n",
              "      <th>Home_Expn</th>\n",
              "      <th>Balance</th>\n",
              "      <th>Decision</th>\n",
              "    </tr>\n",
              "  </thead>\n",
              "  <tbody>\n",
              "    <tr>\n",
              "      <th>0</th>\n",
              "      <td>M</td>\n",
              "      <td>50.750000</td>\n",
              "      <td>0.585</td>\n",
              "      <td>owner</td>\n",
              "      <td>given</td>\n",
              "      <td>unemploye</td>\n",
              "      <td>unemploye</td>\n",
              "      <td>0</td>\n",
              "      <td>0</td>\n",
              "      <td>f</td>\n",
              "      <td>given</td>\n",
              "      <td>145</td>\n",
              "      <td>0</td>\n",
              "      <td>reject</td>\n",
              "    </tr>\n",
              "    <tr>\n",
              "      <th>1</th>\n",
              "      <td>M</td>\n",
              "      <td>19.670000</td>\n",
              "      <td>10.000</td>\n",
              "      <td>rent</td>\n",
              "      <td>not_given</td>\n",
              "      <td>labourer</td>\n",
              "      <td>governmen</td>\n",
              "      <td>0</td>\n",
              "      <td>0</td>\n",
              "      <td>t</td>\n",
              "      <td>given</td>\n",
              "      <td>140</td>\n",
              "      <td>0</td>\n",
              "      <td>reject</td>\n",
              "    </tr>\n",
              "    <tr>\n",
              "      <th>2</th>\n",
              "      <td>F</td>\n",
              "      <td>52.830002</td>\n",
              "      <td>15.000</td>\n",
              "      <td>owner</td>\n",
              "      <td>given</td>\n",
              "      <td>creative_</td>\n",
              "      <td>private_s</td>\n",
              "      <td>5</td>\n",
              "      <td>14</td>\n",
              "      <td>f</td>\n",
              "      <td>given</td>\n",
              "      <td>0</td>\n",
              "      <td>2200</td>\n",
              "      <td>accept</td>\n",
              "    </tr>\n",
              "    <tr>\n",
              "      <th>3</th>\n",
              "      <td>M</td>\n",
              "      <td>22.670000</td>\n",
              "      <td>2.540</td>\n",
              "      <td>rent</td>\n",
              "      <td>not_given</td>\n",
              "      <td>creative_</td>\n",
              "      <td>governmen</td>\n",
              "      <td>2</td>\n",
              "      <td>0</td>\n",
              "      <td>f</td>\n",
              "      <td>given</td>\n",
              "      <td>0</td>\n",
              "      <td>0</td>\n",
              "      <td>accept</td>\n",
              "    </tr>\n",
              "    <tr>\n",
              "      <th>4</th>\n",
              "      <td>M</td>\n",
              "      <td>29.250000</td>\n",
              "      <td>13.000</td>\n",
              "      <td>owner</td>\n",
              "      <td>given</td>\n",
              "      <td>driver</td>\n",
              "      <td>governmen</td>\n",
              "      <td>0</td>\n",
              "      <td>0</td>\n",
              "      <td>f</td>\n",
              "      <td>given</td>\n",
              "      <td>228</td>\n",
              "      <td>0</td>\n",
              "      <td>reject</td>\n",
              "    </tr>\n",
              "    <tr>\n",
              "      <th>...</th>\n",
              "      <td>...</td>\n",
              "      <td>...</td>\n",
              "      <td>...</td>\n",
              "      <td>...</td>\n",
              "      <td>...</td>\n",
              "      <td>...</td>\n",
              "      <td>...</td>\n",
              "      <td>...</td>\n",
              "      <td>...</td>\n",
              "      <td>...</td>\n",
              "      <td>...</td>\n",
              "      <td>...</td>\n",
              "      <td>...</td>\n",
              "      <td>...</td>\n",
              "    </tr>\n",
              "    <tr>\n",
              "      <th>424</th>\n",
              "      <td>M</td>\n",
              "      <td>34.169998</td>\n",
              "      <td>2.750</td>\n",
              "      <td>owner</td>\n",
              "      <td>given</td>\n",
              "      <td>guard_etc</td>\n",
              "      <td>self_empl</td>\n",
              "      <td>2</td>\n",
              "      <td>0</td>\n",
              "      <td>t</td>\n",
              "      <td>given</td>\n",
              "      <td>232</td>\n",
              "      <td>200</td>\n",
              "      <td>reject</td>\n",
              "    </tr>\n",
              "    <tr>\n",
              "      <th>425</th>\n",
              "      <td>F</td>\n",
              "      <td>22.250000</td>\n",
              "      <td>1.250</td>\n",
              "      <td>rent</td>\n",
              "      <td>not_given</td>\n",
              "      <td>unemploye</td>\n",
              "      <td>unemploye</td>\n",
              "      <td>3</td>\n",
              "      <td>0</td>\n",
              "      <td>f</td>\n",
              "      <td>given</td>\n",
              "      <td>280</td>\n",
              "      <td>0</td>\n",
              "      <td>reject</td>\n",
              "    </tr>\n",
              "    <tr>\n",
              "      <th>426</th>\n",
              "      <td>M</td>\n",
              "      <td>23.330000</td>\n",
              "      <td>1.500</td>\n",
              "      <td>owner</td>\n",
              "      <td>given</td>\n",
              "      <td>creative_</td>\n",
              "      <td>governmen</td>\n",
              "      <td>1</td>\n",
              "      <td>0</td>\n",
              "      <td>f</td>\n",
              "      <td>given</td>\n",
              "      <td>422</td>\n",
              "      <td>200</td>\n",
              "      <td>accept</td>\n",
              "    </tr>\n",
              "    <tr>\n",
              "      <th>427</th>\n",
              "      <td>M</td>\n",
              "      <td>21.000000</td>\n",
              "      <td>4.790</td>\n",
              "      <td>rent</td>\n",
              "      <td>not_given</td>\n",
              "      <td>productio</td>\n",
              "      <td>private_s</td>\n",
              "      <td>2</td>\n",
              "      <td>1</td>\n",
              "      <td>t</td>\n",
              "      <td>given</td>\n",
              "      <td>80</td>\n",
              "      <td>300</td>\n",
              "      <td>accept</td>\n",
              "    </tr>\n",
              "    <tr>\n",
              "      <th>428</th>\n",
              "      <td>M</td>\n",
              "      <td>27.750000</td>\n",
              "      <td>1.290</td>\n",
              "      <td>owner</td>\n",
              "      <td>given</td>\n",
              "      <td>labourer</td>\n",
              "      <td>governmen</td>\n",
              "      <td>0</td>\n",
              "      <td>0</td>\n",
              "      <td>t</td>\n",
              "      <td>oth_inst_</td>\n",
              "      <td>140</td>\n",
              "      <td>0</td>\n",
              "      <td>reject</td>\n",
              "    </tr>\n",
              "  </tbody>\n",
              "</table>\n",
              "<p>429 rows × 14 columns</p>\n",
              "</div>\n",
              "      <button class=\"colab-df-convert\" onclick=\"convertToInteractive('df-9c70cc0f-9b55-4731-bab7-4e5027c30fc6')\"\n",
              "              title=\"Convert this dataframe to an interactive table.\"\n",
              "              style=\"display:none;\">\n",
              "        \n",
              "  <svg xmlns=\"http://www.w3.org/2000/svg\" height=\"24px\"viewBox=\"0 0 24 24\"\n",
              "       width=\"24px\">\n",
              "    <path d=\"M0 0h24v24H0V0z\" fill=\"none\"/>\n",
              "    <path d=\"M18.56 5.44l.94 2.06.94-2.06 2.06-.94-2.06-.94-.94-2.06-.94 2.06-2.06.94zm-11 1L8.5 8.5l.94-2.06 2.06-.94-2.06-.94L8.5 2.5l-.94 2.06-2.06.94zm10 10l.94 2.06.94-2.06 2.06-.94-2.06-.94-.94-2.06-.94 2.06-2.06.94z\"/><path d=\"M17.41 7.96l-1.37-1.37c-.4-.4-.92-.59-1.43-.59-.52 0-1.04.2-1.43.59L10.3 9.45l-7.72 7.72c-.78.78-.78 2.05 0 2.83L4 21.41c.39.39.9.59 1.41.59.51 0 1.02-.2 1.41-.59l7.78-7.78 2.81-2.81c.8-.78.8-2.07 0-2.86zM5.41 20L4 18.59l7.72-7.72 1.47 1.35L5.41 20z\"/>\n",
              "  </svg>\n",
              "      </button>\n",
              "      \n",
              "  <style>\n",
              "    .colab-df-container {\n",
              "      display:flex;\n",
              "      flex-wrap:wrap;\n",
              "      gap: 12px;\n",
              "    }\n",
              "\n",
              "    .colab-df-convert {\n",
              "      background-color: #E8F0FE;\n",
              "      border: none;\n",
              "      border-radius: 50%;\n",
              "      cursor: pointer;\n",
              "      display: none;\n",
              "      fill: #1967D2;\n",
              "      height: 32px;\n",
              "      padding: 0 0 0 0;\n",
              "      width: 32px;\n",
              "    }\n",
              "\n",
              "    .colab-df-convert:hover {\n",
              "      background-color: #E2EBFA;\n",
              "      box-shadow: 0px 1px 2px rgba(60, 64, 67, 0.3), 0px 1px 3px 1px rgba(60, 64, 67, 0.15);\n",
              "      fill: #174EA6;\n",
              "    }\n",
              "\n",
              "    [theme=dark] .colab-df-convert {\n",
              "      background-color: #3B4455;\n",
              "      fill: #D2E3FC;\n",
              "    }\n",
              "\n",
              "    [theme=dark] .colab-df-convert:hover {\n",
              "      background-color: #434B5C;\n",
              "      box-shadow: 0px 1px 3px 1px rgba(0, 0, 0, 0.15);\n",
              "      filter: drop-shadow(0px 1px 2px rgba(0, 0, 0, 0.3));\n",
              "      fill: #FFFFFF;\n",
              "    }\n",
              "  </style>\n",
              "\n",
              "      <script>\n",
              "        const buttonEl =\n",
              "          document.querySelector('#df-9c70cc0f-9b55-4731-bab7-4e5027c30fc6 button.colab-df-convert');\n",
              "        buttonEl.style.display =\n",
              "          google.colab.kernel.accessAllowed ? 'block' : 'none';\n",
              "\n",
              "        async function convertToInteractive(key) {\n",
              "          const element = document.querySelector('#df-9c70cc0f-9b55-4731-bab7-4e5027c30fc6');\n",
              "          const dataTable =\n",
              "            await google.colab.kernel.invokeFunction('convertToInteractive',\n",
              "                                                     [key], {});\n",
              "          if (!dataTable) return;\n",
              "\n",
              "          const docLinkHtml = 'Like what you see? Visit the ' +\n",
              "            '<a target=\"_blank\" href=https://colab.research.google.com/notebooks/data_table.ipynb>data table notebook</a>'\n",
              "            + ' to learn more about interactive tables.';\n",
              "          element.innerHTML = '';\n",
              "          dataTable['output_type'] = 'display_data';\n",
              "          await google.colab.output.renderOutput(dataTable, element);\n",
              "          const docLink = document.createElement('div');\n",
              "          docLink.innerHTML = docLinkHtml;\n",
              "          element.appendChild(docLink);\n",
              "        }\n",
              "      </script>\n",
              "    </div>\n",
              "  </div>\n",
              "  "
            ]
          },
          "metadata": {},
          "execution_count": 29
        }
      ]
    },
    {
      "cell_type": "code",
      "source": [
        "loan_data.isnull().sum()"
      ],
      "metadata": {
        "colab": {
          "base_uri": "https://localhost:8080/"
        },
        "id": "dz4YdXvvSNyf",
        "outputId": "115082b9-9b9a-4ca9-b9fa-eb453443fe35"
      },
      "execution_count": 30,
      "outputs": [
        {
          "output_type": "execute_result",
          "data": {
            "text/plain": [
              "Sex                0\n",
              "Age                0\n",
              "Time_at_address    0\n",
              "Res_status         0\n",
              "Telephone          0\n",
              "Occupation         0\n",
              "Job_status         0\n",
              "Time_employed      0\n",
              "Time_bank          0\n",
              "Liab_ref           0\n",
              "Acc_ref            0\n",
              "Home_Expn          0\n",
              "Balance            0\n",
              "Decision           0\n",
              "dtype: int64"
            ]
          },
          "metadata": {},
          "execution_count": 30
        }
      ]
    },
    {
      "cell_type": "code",
      "source": [
        "loan_data.head(5)\n",
        "loan_data.shape"
      ],
      "metadata": {
        "colab": {
          "base_uri": "https://localhost:8080/"
        },
        "id": "B39SMUxtK7OB",
        "outputId": "5e0c5ecb-8c84-44b8-fe24-87df9839d224"
      },
      "execution_count": 73,
      "outputs": [
        {
          "output_type": "execute_result",
          "data": {
            "text/plain": [
              "(429, 14)"
            ]
          },
          "metadata": {},
          "execution_count": 73
        }
      ]
    },
    {
      "cell_type": "code",
      "source": [
        "X=loan_data.iloc[:,:-1].values\n",
        "X"
      ],
      "metadata": {
        "colab": {
          "base_uri": "https://localhost:8080/"
        },
        "id": "Ct11LSbhOdQK",
        "outputId": "61f5a705-086b-4445-d025-c5ac48314673"
      },
      "execution_count": 47,
      "outputs": [
        {
          "output_type": "execute_result",
          "data": {
            "text/plain": [
              "array([['M', 50.75, 0.584999978542328, ..., 'given', 145, 0],\n",
              "       ['M', 19.6700000762939, 10.0, ..., 'given', 140, 0],\n",
              "       ['F', 52.8300018310547, 15.0, ..., 'given', 0, 2200],\n",
              "       ...,\n",
              "       ['M', 23.3299999237061, 1.5, ..., 'given', 422, 200],\n",
              "       ['M', 21.0, 4.78999996185303, ..., 'given', 80, 300],\n",
              "       ['M', 27.75, 1.28999996185303, ..., 'oth_inst_', 140, 0]],\n",
              "      dtype=object)"
            ]
          },
          "metadata": {},
          "execution_count": 47
        }
      ]
    },
    {
      "cell_type": "code",
      "source": [
        "y=loan_data.iloc[:,-1].values"
      ],
      "metadata": {
        "id": "vXNEQ9PSNLLe"
      },
      "execution_count": 48,
      "outputs": []
    },
    {
      "cell_type": "code",
      "source": [
        "from sklearn.compose import ColumnTransformer\n",
        "from sklearn.preprocessing import OneHotEncoder\n",
        "\n",
        "ct=ColumnTransformer(transformers=[('encoder',OneHotEncoder(),[0,3,4,5,6,9,10])],remainder='passthrough')\n",
        "x=np.array(ct.fit_transform(X))"
      ],
      "metadata": {
        "id": "ZQi43c2u1CVv"
      },
      "execution_count": 51,
      "outputs": []
    },
    {
      "cell_type": "code",
      "source": [
        "from sklearn.preprocessing import LabelEncoder\n",
        "le=LabelEncoder()\n",
        "y=le.fit_transform(y)"
      ],
      "metadata": {
        "id": "Xr401D8yLXkb"
      },
      "execution_count": 52,
      "outputs": []
    },
    {
      "cell_type": "code",
      "source": [
        "print(x)\n",
        "print(x.shape)"
      ],
      "metadata": {
        "colab": {
          "base_uri": "https://localhost:8080/"
        },
        "id": "MeFSxQSeLiHK",
        "outputId": "ff69dd95-e6e7-4821-cddd-b37f1f84d061"
      },
      "execution_count": 53,
      "outputs": [
        {
          "output_type": "stream",
          "name": "stdout",
          "text": [
            "[[0.0 1.0 1.0 ... 0 145 0]\n",
            " [0.0 1.0 0.0 ... 0 140 0]\n",
            " [1.0 0.0 1.0 ... 14 0 2200]\n",
            " ...\n",
            " [0.0 1.0 1.0 ... 0 422 200]\n",
            " [0.0 1.0 0.0 ... 1 80 300]\n",
            " [0.0 1.0 1.0 ... 0 140 0]]\n",
            "(429, 35)\n"
          ]
        }
      ]
    },
    {
      "cell_type": "code",
      "source": [
        "print(y.shape)"
      ],
      "metadata": {
        "colab": {
          "base_uri": "https://localhost:8080/"
        },
        "id": "-eSzeq62NcoC",
        "outputId": "c456b121-8a59-4ece-cf07-acce59039f26"
      },
      "execution_count": 54,
      "outputs": [
        {
          "output_type": "stream",
          "name": "stdout",
          "text": [
            "(429,)\n"
          ]
        }
      ]
    },
    {
      "cell_type": "code",
      "source": [
        "from sklearn.model_selection import train_test_split\n",
        "X_train,X_test,y_train,y_test=train_test_split(x,y,test_size=0.2,random_state=1)"
      ],
      "metadata": {
        "id": "zvxpXxPgNeVs"
      },
      "execution_count": 55,
      "outputs": []
    },
    {
      "cell_type": "code",
      "source": [
        "print(X_train)\n",
        "print(y_train.shape)\n",
        "print(X_test)\n",
        "print(y_test.shape)"
      ],
      "metadata": {
        "colab": {
          "base_uri": "https://localhost:8080/"
        },
        "id": "Vj4_NrkKNqB2",
        "outputId": "5d07be92-a6ba-4f18-c6cd-4d9099d724be"
      },
      "execution_count": 56,
      "outputs": [
        {
          "output_type": "stream",
          "name": "stdout",
          "text": [
            "[[0.0 1.0 1.0 ... 6 70 0]\n",
            " [1.0 0.0 1.0 ... 7 0 0]\n",
            " [1.0 0.0 1.0 ... 1 220 19]\n",
            " ...\n",
            " [0.0 1.0 1.0 ... 1 96 19]\n",
            " [0.0 1.0 1.0 ... 0 360 0]\n",
            " [1.0 0.0 1.0 ... 1 108 98]]\n",
            "(343,)\n",
            "[[0.0 1.0 1.0 ... 0 221 0]\n",
            " [0.0 1.0 1.0 ... 12 0 221]\n",
            " [0.0 1.0 1.0 ... 1 420 283]\n",
            " ...\n",
            " [1.0 0.0 0.0 ... 0 280 0]\n",
            " [1.0 0.0 1.0 ... 3 0 0]\n",
            " [1.0 0.0 1.0 ... 0 280 0]]\n",
            "(86,)\n"
          ]
        }
      ]
    },
    {
      "cell_type": "code",
      "source": [
        "from sklearn.linear_model import LogisticRegression\n",
        "\n",
        "logmodel = LogisticRegression(max_iter=10000)\n",
        "logmodel.fit(X_train,y_train)"
      ],
      "metadata": {
        "colab": {
          "base_uri": "https://localhost:8080/"
        },
        "id": "vAJoo6PINw7r",
        "outputId": "5910e850-68ae-4851-ad4d-52d88cf631a6"
      },
      "execution_count": 57,
      "outputs": [
        {
          "output_type": "execute_result",
          "data": {
            "text/plain": [
              "LogisticRegression(max_iter=10000)"
            ]
          },
          "metadata": {},
          "execution_count": 57
        }
      ]
    },
    {
      "cell_type": "code",
      "source": [
        "logmodel.fit(X_train,y_train)"
      ],
      "metadata": {
        "colab": {
          "base_uri": "https://localhost:8080/"
        },
        "id": "KjtGvrBcOA4m",
        "outputId": "a5761809-5239-4fde-d20c-3bb8c3bcde43"
      },
      "execution_count": 58,
      "outputs": [
        {
          "output_type": "execute_result",
          "data": {
            "text/plain": [
              "LogisticRegression(max_iter=10000)"
            ]
          },
          "metadata": {},
          "execution_count": 58
        }
      ]
    },
    {
      "cell_type": "code",
      "source": [
        "prediction= logmodel.predict(X_test)"
      ],
      "metadata": {
        "id": "Ak2LJCezQM7M"
      },
      "execution_count": 59,
      "outputs": []
    },
    {
      "cell_type": "code",
      "source": [
        "from sklearn.metrics import classification_report"
      ],
      "metadata": {
        "id": "34GFzUC8QVAh"
      },
      "execution_count": 60,
      "outputs": []
    },
    {
      "cell_type": "code",
      "source": [
        "print(classification_report(y_test,prediction))"
      ],
      "metadata": {
        "colab": {
          "base_uri": "https://localhost:8080/"
        },
        "id": "p9O5BjZTQf99",
        "outputId": "94ffb92a-36d5-4837-92c6-aea861f458af"
      },
      "execution_count": 61,
      "outputs": [
        {
          "output_type": "stream",
          "name": "stdout",
          "text": [
            "              precision    recall  f1-score   support\n",
            "\n",
            "           0       0.92      0.53      0.68        45\n",
            "           1       0.65      0.95      0.77        41\n",
            "\n",
            "    accuracy                           0.73        86\n",
            "   macro avg       0.79      0.74      0.72        86\n",
            "weighted avg       0.79      0.73      0.72        86\n",
            "\n"
          ]
        }
      ]
    },
    {
      "cell_type": "code",
      "source": [
        "from sklearn.metrics import confusion_matrix,accuracy_score\n",
        "cm=confusion_matrix(y_test,prediction)\n",
        "print(cm)\n",
        "accuracy_score(y_test,prediction)"
      ],
      "metadata": {
        "colab": {
          "base_uri": "https://localhost:8080/"
        },
        "id": "fb3XS2WDQgTK",
        "outputId": "57a316ea-bc19-4978-fe6a-8538dfc5b206"
      },
      "execution_count": 62,
      "outputs": [
        {
          "output_type": "stream",
          "name": "stdout",
          "text": [
            "[[24 21]\n",
            " [ 2 39]]\n"
          ]
        },
        {
          "output_type": "execute_result",
          "data": {
            "text/plain": [
              "0.7325581395348837"
            ]
          },
          "metadata": {},
          "execution_count": 62
        }
      ]
    },
    {
      "cell_type": "code",
      "source": [],
      "metadata": {
        "id": "PNclPjy9QtrU"
      },
      "execution_count": null,
      "outputs": []
    }
  ]
}